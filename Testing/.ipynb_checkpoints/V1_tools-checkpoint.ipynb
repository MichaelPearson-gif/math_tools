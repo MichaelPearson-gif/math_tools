{
 "cells": [
  {
   "cell_type": "code",
   "execution_count": 1,
   "metadata": {},
   "outputs": [],
   "source": [
    "# Power Rule\n",
    "# The Power Rule (cx^exp), multiplies the c and exp together than the exp is subtracted by 1\n",
    "def power_rule(c, x, exp):\n",
    "    \n",
    "    # c represents the constant number multiplied by our variable\n",
    "    # x represents our unknown variable\n",
    "    # exp represents our exponent expression\n",
    "    \n",
    "    # multiply the constant and the exponent\n",
    "    new_c = c * exp\n",
    "    \n",
    "    # Subtract the exponent by 1\n",
    "    new_exp = exp - 1\n",
    "    \n",
    "    # Create a condition so that we get 3 types of results dependent on what the new_exp is equivalent to\n",
    "    # if new_exp = 0, then just print the resulting constant new_c\n",
    "    if new_exp == 0:\n",
    "        print(new_c)\n",
    "    \n",
    "    # if new_exp = 1, then print new_c*x for a phantom 1 is on the exponent of x\n",
    "    elif new_exp == 1:\n",
    "        print(f'{new_c}{x}')\n",
    "    \n",
    "    # Otherwise print the statement new_c*x^new_exp\n",
    "    else:\n",
    "        print(f'{new_c}{x}^{new_exp}')"
   ]
  },
  {
   "cell_type": "code",
   "execution_count": 2,
   "metadata": {},
   "outputs": [
    {
     "name": "stdout",
     "output_type": "stream",
     "text": [
      "20\n",
      "40x\n",
      "60x^2\n"
     ]
    }
   ],
   "source": [
    "# Testing\n",
    "power_rule(20, \"x\", 1)\n",
    "power_rule(20, \"x\", 2)\n",
    "power_rule(20, \"x\", 3)"
   ]
  },
  {
   "cell_type": "code",
   "execution_count": null,
   "metadata": {},
   "outputs": [],
   "source": []
  }
 ],
 "metadata": {
  "kernelspec": {
   "display_name": "Python 3",
   "language": "python",
   "name": "python3"
  },
  "language_info": {
   "codemirror_mode": {
    "name": "ipython",
    "version": 3
   },
   "file_extension": ".py",
   "mimetype": "text/x-python",
   "name": "python",
   "nbconvert_exporter": "python",
   "pygments_lexer": "ipython3",
   "version": "3.6.8"
  }
 },
 "nbformat": 4,
 "nbformat_minor": 2
}
