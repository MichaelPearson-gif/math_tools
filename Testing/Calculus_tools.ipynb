{
 "cells": [
  {
   "cell_type": "code",
   "execution_count": 1,
   "metadata": {},
   "outputs": [],
   "source": [
    "# Import dependencies\n",
    "import numpy as np\n",
    "\n",
    "# SymPy is a nice python library with the ability to do calculus work\n",
    "# I will be using this to build functions\n",
    "from sympy import *"
   ]
  },
  {
   "cell_type": "code",
   "execution_count": 8,
   "metadata": {},
   "outputs": [
    {
     "data": {
      "text/latex": [
       "$\\displaystyle x^{2} + 2$"
      ],
      "text/plain": [
       "x**2 + 2"
      ]
     },
     "execution_count": 8,
     "metadata": {},
     "output_type": "execute_result"
    }
   ],
   "source": [
    "# Testing the sympy package\n",
    "# Set x as the symbol\n",
    "x = symbols('x')\n",
    "exp = 2 + x**2\n",
    "exp"
   ]
  },
  {
   "cell_type": "markdown",
   "metadata": {},
   "source": [
    "# Creating Functions for Finding Derivatives"
   ]
  },
  {
   "cell_type": "code",
   "execution_count": 9,
   "metadata": {},
   "outputs": [],
   "source": [
    "# Power Rule\n",
    "def power(c):\n",
    "    \n",
    "    # Take the derivate of x^c\n",
    "    derivative = diff(x**c)\n",
    "    \n",
    "    # Return the result\n",
    "    return derivative"
   ]
  },
  {
   "cell_type": "code",
   "execution_count": 11,
   "metadata": {},
   "outputs": [
    {
     "data": {
      "text/latex": [
       "$\\displaystyle 3 x^{2}$"
      ],
      "text/plain": [
       "3*x**2"
      ]
     },
     "execution_count": 11,
     "metadata": {},
     "output_type": "execute_result"
    }
   ],
   "source": [
    "# Testing Power Rule\n",
    "power(3)"
   ]
  },
  {
   "cell_type": "code",
   "execution_count": 13,
   "metadata": {},
   "outputs": [],
   "source": [
    "# Addition Rule\n",
    "# c and e are optional arguments for constant values that could be multiplied by the variable\n",
    "# d and f are optional arguments for the exponent values \n",
    "# Default is set to 1 so if nothing is passed through it then it turns into a phantom 1\n",
    "def addition(c=1, d=1, e=1, f=1):\n",
    "    \n",
    "    # Take the derivative of cx^d + cx^d\n",
    "    derivative = diff(c*x**d + e*x**f)\n",
    "    \n",
    "    # Return the result\n",
    "    return derivative"
   ]
  },
  {
   "cell_type": "code",
   "execution_count": 14,
   "metadata": {},
   "outputs": [
    {
     "data": {
      "text/latex": [
       "$\\displaystyle 6 x^{2} + 2 x$"
      ],
      "text/plain": [
       "6*x**2 + 2*x"
      ]
     },
     "execution_count": 14,
     "metadata": {},
     "output_type": "execute_result"
    }
   ],
   "source": [
    "addition(c=2, d=3, f=2)"
   ]
  },
  {
   "cell_type": "code",
   "execution_count": 15,
   "metadata": {},
   "outputs": [],
   "source": [
    "# Subtraction Rule\n",
    "# c and e are optional arguments for constant values that could be multiplied by the variable\n",
    "# d and f are optional arguments for the exponent values \n",
    "# Default is set to 1 so if nothing is passed through it then it turns into a phantom 1\n",
    "def subtraction(c=1, d=1, e=1, f=1):\n",
    "    \n",
    "    # Take the derivative of cx^d - cx^d\n",
    "    derivative = diff(c*x**d - e*x**f)\n",
    "    \n",
    "    # Return the result\n",
    "    return derivative"
   ]
  },
  {
   "cell_type": "code",
   "execution_count": 16,
   "metadata": {},
   "outputs": [
    {
     "data": {
      "text/latex": [
       "$\\displaystyle 6 x - 1$"
      ],
      "text/plain": [
       "6*x - 1"
      ]
     },
     "execution_count": 16,
     "metadata": {},
     "output_type": "execute_result"
    }
   ],
   "source": [
    "subtraction(c=3, d=2)"
   ]
  },
  {
   "cell_type": "code",
   "execution_count": null,
   "metadata": {},
   "outputs": [],
   "source": []
  }
 ],
 "metadata": {
  "kernelspec": {
   "display_name": "Python 3",
   "language": "python",
   "name": "python3"
  },
  "language_info": {
   "codemirror_mode": {
    "name": "ipython",
    "version": 3
   },
   "file_extension": ".py",
   "mimetype": "text/x-python",
   "name": "python",
   "nbconvert_exporter": "python",
   "pygments_lexer": "ipython3",
   "version": "3.6.8"
  }
 },
 "nbformat": 4,
 "nbformat_minor": 2
}
